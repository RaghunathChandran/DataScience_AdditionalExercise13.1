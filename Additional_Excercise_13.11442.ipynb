{
 "cells": [
  {
   "cell_type": "markdown",
   "metadata": {},
   "source": [
    "# Session 13: Additional Exercise - Raghunath"
   ]
  },
  {
   "cell_type": "markdown",
   "metadata": {},
   "source": [
    "## Problem Statement 1: [50 marks]\n",
    "\n",
    "    A company manufactures LED bulbs with a faulty rate of 30%. If I randomly select 6 chosen LEDs, what is \n",
    "    the probability of having 2 faulty LEDs in my sample? Calculate the average value of this process. Also evaluate \n",
    "    the standard deviation associated with it.\n",
    "<img src=\"AdditionalExercisesolution1.jpg\" size=\"500px\"/>\n"
   ]
  },
  {
   "cell_type": "markdown",
   "metadata": {},
   "source": [
    "## Problem Statement 2: [50 marks]\n",
    "\n",
    "    Gaurav and Barakha are both preparing for entrance exams. Gaurav attempts to solve 8 questions per day with a \n",
    "    correction rate of 75%, while Barakha averages around 12 questions per day with a correction rate of 45%. What is \n",
    "    the probability that each of them will solve 5 questions correctly? What happens in cases of 4 and 6 correct \n",
    "    solutions? What do you infer from it? What are the two main governing factors affecting their ability to solve \n",
    "    questions correctly? Give a pictorial  representation of the same to validate your answer.\n",
    "<img src=\"AdditionalExercisesolution20.jpg\" size=\"500px\"/>\n",
    "<img src=\"AdditionalExercisesolution21.jpg\" size=\"500px\"/>\n",
    "\n"
   ]
  },
  {
   "cell_type": "markdown",
   "metadata": {},
   "source": [
    "## Problem Statement 3: [100 marks]\n",
    "    Customers arrive at a rate of 72 per hour to my shop. What is the probability of 𝑘 customers arriving in 4 minutes? \n",
    "    a) 5 customers, \n",
    "    b) not more than 3 customers, \n",
    "    c) more than 3 customers. \n",
    "    Give a pictorial representation of the same to validate your answer.\n",
    "    \n",
    "### Solution\n",
    "\n",
    "<img src=\"AdditionalExercisesolution30.jpg\" size=\"500px\"/>\n",
    "<img src=\"AdditionalExercisesolution31.jpg\" size=\"500px\"/>"
   ]
  },
  {
   "cell_type": "markdown",
   "metadata": {},
   "source": [
    "## Problem Statement 4: [100 marks]\n",
    "    I work as a data analyst in Aeon Learning Pvt. Ltd. After analyzing data, I make reports, where I have the efficiency \n",
    "    of entering 77 words per minute with 6 errors per hour. What is the probability that I will commit 2 errors in a \n",
    "    455-word financial report? What happens when the no. of words increases/decreases (in case of 1000 words, 255 words)? \n",
    "    How is the 𝜆 affected? How does it influence the PMF? Give a pictorial representation of the same to validate your \n",
    "    answer.\n",
    "\n",
    "### Solution\n",
    "\n",
    "<img src=\"AdditionalExercisesolution40.jpg\" size=\"500px\"/>"
   ]
  },
  {
   "cell_type": "code",
   "execution_count": null,
   "metadata": {},
   "outputs": [],
   "source": []
  }
 ],
 "metadata": {
  "kernelspec": {
   "display_name": "Python 3",
   "language": "python",
   "name": "python3"
  },
  "language_info": {
   "codemirror_mode": {
    "name": "ipython",
    "version": 3
   },
   "file_extension": ".py",
   "mimetype": "text/x-python",
   "name": "python",
   "nbconvert_exporter": "python",
   "pygments_lexer": "ipython3",
   "version": "3.7.1"
  }
 },
 "nbformat": 4,
 "nbformat_minor": 2
}
